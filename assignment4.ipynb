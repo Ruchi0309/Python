{
 "cells": [
  {
   "cell_type": "markdown",
   "metadata": {
    "deletable": false,
    "editable": false,
    "nbgrader": {
     "checksum": "48770f8b5f5d3062d3badd51fcafc401",
     "grade": false,
     "grade_id": "cell-a6c4f74309fc2379",
     "locked": true,
     "schema_version": 1,
     "solution": false
    }
   },
   "source": [
    "# Assignment 4\n",
    "## Description\n",
    "In this assignment you must read in a file of metropolitan regions and associated sports teams from [assets/wikipedia_data.html](assets/wikipedia_data.html) and answer some questions about each metropolitan region. Each of these regions may have one or more teams from the \"Big 4\": NFL (football, in [assets/nfl.csv](assets/nfl.csv)), MLB (baseball, in [assets/mlb.csv](assets/mlb.csv)), NBA (basketball, in [assets/nba.csv](assets/nba.csv) or NHL (hockey, in [assets/nhl.csv](assets/nhl.csv)). Please keep in mind that all questions are from the perspective of the metropolitan region, and that this file is the \"source of authority\" for the location of a given sports team. Thus teams which are commonly known by a different area (e.g. \"Oakland Raiders\") need to be mapped into the metropolitan region given (e.g. San Francisco Bay Area). This will require some human data understanding outside of the data you've been given (e.g. you will have to hand-code some names, and might need to google to find out where teams are)!\n",
    "\n",
    "For each sport I would like you to answer the question: **what is the win/loss ratio's correlation with the population of the city it is in?** Win/Loss ratio refers to the number of wins over the number of wins plus the number of losses. Remember that to calculate the correlation with [`pearsonr`](https://docs.scipy.org/doc/scipy/reference/generated/scipy.stats.pearsonr.html), so you are going to send in two ordered lists of values, the populations from the wikipedia_data.html file and the win/loss ratio for a given sport in the same order. Average the win/loss ratios for those cities which have multiple teams of a single sport. Each sport is worth an equal amount in this assignment (20%\\*4=80%) of the grade for this assignment. You should only use data **from year 2018** for your analysis -- this is important!\n",
    "\n",
    "## Notes\n",
    "\n",
    "1. Do not include data about the MLS or CFL in any of the work you are doing, we're only interested in the Big 4 in this assignment.\n",
    "2. I highly suggest that you first tackle the four correlation questions in order, as they are all similar and worth the majority of grades for this assignment. This is by design!\n",
    "3. It's fair game to talk with peers about high level strategy as well as the relationship between metropolitan areas and sports teams. However, do not post code solving aspects of the assignment (including such as dictionaries mapping areas to teams, or regexes which will clean up names).\n",
    "4. There may be more teams than the assert statements test, remember to collapse multiple teams in one city into a single value!"
   ]
  },
  {
   "cell_type": "markdown",
   "metadata": {
    "deletable": false,
    "editable": false,
    "nbgrader": {
     "checksum": "369ff9ecf0ee04640574205cbc697f94",
     "grade": false,
     "grade_id": "cell-712b2b5da63d4505",
     "locked": true,
     "schema_version": 1,
     "solution": false
    }
   },
   "source": [
    "## Question 1\n",
    "For this question, calculate the win/loss ratio's correlation with the population of the city it is in for the **NHL** using **2018** data."
   ]
  },
  {
   "cell_type": "code",
   "execution_count": 88,
   "metadata": {
    "deletable": false,
    "nbgrader": {
     "checksum": "1cac4803b02502929f5b1612d48db2b5",
     "grade": false,
     "grade_id": "cell-69b16e4386e58030",
     "locked": false,
     "schema_version": 1,
     "solution": true
    }
   },
   "outputs": [
    {
     "data": {
      "text/plain": [
       "0.012486162921209907"
      ]
     },
     "execution_count": 88,
     "metadata": {},
     "output_type": "execute_result"
    }
   ],
   "source": [
    "import pandas as pd\n",
    "import numpy as np\n",
    "import scipy.stats as stats\n",
    "import re\n",
    "\n",
    "nhl_df=pd.read_csv(\"assets/nhl.csv\")\n",
    "cities=pd.read_html(\"assets/wikipedia_data.html\")[1]\n",
    "cities=cities.iloc[:-1,[0,3,5,6,7,8]]\n",
    "#cities.set_index('Metropolitan area', inplace=True)\n",
    "cities.rename(columns = {'Population (2016 est.)[8]':'Population'}, inplace=True)\n",
    "cities[['Metropolitan area','NFL','MLB','NBA','NHL']] = cities[['Metropolitan area','NFL','MLB','NBA','NHL']].replace(['\\[.*\\]+','(?<=\\w)([A-Z])',',.*','\\–.*','\\—'],['',r' \\1','','',''], regex=True)\n",
    "nhl_df = nhl_df.loc[(nhl_df['year']==2018)]\n",
    "nhl_df = nhl_df[~nhl_df.GP.str.contains(\"Division\")]\n",
    "nhl_df = nhl_df[['team', 'W','L']]\n",
    "nhl_df['team']=nhl_df['team'].replace('\\*', '', regex=True)\n",
    "cols = ['Metropolitan area','NFL','MLB','NBA','NHL']\n",
    "cities[cols] = cities[cols].apply(lambda x: x.str.strip())\n",
    "cols = ['team', 'W', 'L']\n",
    "nhl_df[cols] = nhl_df[cols].apply(lambda x: x.str.strip())\n",
    "nhl_df['Team'] = nhl_df['team'].apply(lambda x: x.split(' ')[-1])\n",
    "nhl_df['Team'] = nhl_df['Team'].replace(['Leafs', 'Wings', 'Jackets', 'Knights'],['Maple Leafs','Red Wings','Blue Jackets', 'Golden Knights'])\n",
    "df = cities[['Metropolitan area', 'NHL','Population']]\n",
    "df = df.replace('',np.nan).dropna()\n",
    "df.rename(columns = {\"NHL\":\"Team\"}, inplace=True)\n",
    "df = df.set_index(['Metropolitan area','Population']).apply(lambda x: x.str.split(' ').explode()).reset_index()\n",
    "df['Team'] = df['Team'].replace(['Leafs', 'Wings', 'Jackets', 'Knights'],['Maple Leafs','Red Wings','Blue Jackets', 'Golden Knights'])\n",
    "\n",
    "nhl = pd.merge(nhl_df, df, how='inner', on='Team')\n",
    "nhl['ratio'] = pd.to_numeric(nhl['W'])/(pd.to_numeric(nhl['L'])+pd.to_numeric(nhl['W']))\n",
    "nhl.drop(['W', 'L'], axis=1, inplace=True)\n",
    "data = nhl.groupby('Metropolitan area').agg({'Population':np.max, 'ratio':np.mean})\n",
    "\n",
    "def nhl_correlation(): \n",
    "    \n",
    "    \n",
    "    population_by_region = pd.to_numeric(data['Population']) # pass in metropolitan area population from cities\n",
    "    win_loss_by_region = data['ratio'] # pass in win/loss ratio from nhl_df in the same order as cities[\"Metropolitan area\"]\n",
    "    \n",
    "    assert len(population_by_region) == len(win_loss_by_region), \"Q1: Your lists must be the same length\"\n",
    "    assert len(population_by_region) == 28, \"Q1: There should be 28 teams being analysed for NHL\"\n",
    "    \n",
    "    corr,pval = stats.pearsonr(population_by_region, win_loss_by_region)\n",
    "    return corr\n",
    "nhl_correlation()"
   ]
  },
  {
   "cell_type": "code",
   "execution_count": null,
   "metadata": {
    "deletable": false,
    "editable": false,
    "nbgrader": {
     "checksum": "52a581df513c71153e105b93764cda4b",
     "grade": true,
     "grade_id": "cell-ebe0b2dfe1067e63",
     "locked": true,
     "points": 20,
     "schema_version": 1,
     "solution": false
    }
   },
   "outputs": [],
   "source": []
  },
  {
   "cell_type": "markdown",
   "metadata": {
    "deletable": false,
    "editable": false,
    "nbgrader": {
     "checksum": "988912cae4968d81473f46d783e79c16",
     "grade": false,
     "grade_id": "cell-cb964e690298b71d",
     "locked": true,
     "schema_version": 1,
     "solution": false
    }
   },
   "source": [
    "## Question 2\n",
    "For this question, calculate the win/loss ratio's correlation with the population of the city it is in for the **NBA** using **2018** data."
   ]
  },
  {
   "cell_type": "code",
   "execution_count": 90,
   "metadata": {
    "deletable": false,
    "nbgrader": {
     "checksum": "9394222aafc8ccab0a228098ba0d6010",
     "grade": false,
     "grade_id": "cell-5a5f21279e3d3572",
     "locked": false,
     "schema_version": 1,
     "solution": true
    }
   },
   "outputs": [
    {
     "data": {
      "text/plain": [
       "-0.17636350642182935"
      ]
     },
     "execution_count": 90,
     "metadata": {},
     "output_type": "execute_result"
    }
   ],
   "source": [
    "import pandas as pd\n",
    "import numpy as np\n",
    "import scipy.stats as stats\n",
    "import re\n",
    "\n",
    "nba_df=pd.read_csv(\"assets/nba.csv\")\n",
    "#cities=pd.read_html(\"assets/wikipedia_data.html\")[1]\n",
    "#cities=cities.iloc[:-1,[0,3,5,6,7,8]]\n",
    "nba_df = nba_df.loc[(nba_df['year']==2018)]\n",
    "nba_df = nba_df[['team', 'W/L%']]\n",
    "nba_df['team']=nba_df['team'].replace(['\\*.*','\\(.*\\)'], ['',''], regex=True)\n",
    "cols = ['team', 'W/L%']\n",
    "nba_df[cols] = nba_df[cols].apply(lambda x: x.str.strip())\n",
    "nba_df['Team'] = nba_df['team'].apply(lambda x: x.split(' ')[-1])\n",
    "nba_df['Team'] = nba_df['Team'].replace(['Blazers'],['Trail Blazers'])\n",
    "df = cities[['Metropolitan area', 'NBA','Population']]\n",
    "df = df.replace('',np.nan).dropna()\n",
    "df.rename(columns = {\"NBA\":\"Team\"}, inplace=True)\n",
    "df = df.set_index(['Metropolitan area','Population']).apply(lambda x: x.str.split(' ').explode()).reset_index()\n",
    "df['Team'] = df['Team'].replace(['Blazers'],['Trail Blazers'])\n",
    "#print(nba_df.columns.values.tolist())\n",
    "#print(df.head(50))\n",
    "nba = pd.merge(nba_df, df, how='inner', on='Team')\n",
    "#print(temp.columns.values.tolist())\n",
    "nba[['Population','W/L%']] = nba[['Population','W/L%']].apply(pd.to_numeric, errors='coerce')\n",
    "data = nba.groupby('Metropolitan area').agg({'Population':np.max, 'W/L%':np.mean})\n",
    "\n",
    "def nba_correlation():\n",
    "    \n",
    "    \n",
    "    population_by_region = data['Population'] # pass in metropolitan area population from cities\n",
    "    win_loss_by_region = data['W/L%'] # pass in win/loss ratio from nba_df in the same order as cities[\"Metropolitan area\"]\n",
    "\n",
    "    assert len(population_by_region) == len(win_loss_by_region), \"Q2: Your lists must be the same length\"\n",
    "    assert len(population_by_region) == 28, \"Q2: There should be 28 teams being analysed for NBA\"\n",
    "\n",
    "    corr, pval = stats.pearsonr(population_by_region, win_loss_by_region)\n",
    "    return corr\n",
    "nba_correlation()"
   ]
  },
  {
   "cell_type": "code",
   "execution_count": null,
   "metadata": {
    "deletable": false,
    "editable": false,
    "nbgrader": {
     "checksum": "bbdeb8eb22f525a34c10dc8798324e42",
     "grade": true,
     "grade_id": "cell-e573b2b4a282b470",
     "locked": true,
     "points": 20,
     "schema_version": 1,
     "solution": false
    }
   },
   "outputs": [],
   "source": []
  },
  {
   "cell_type": "markdown",
   "metadata": {
    "deletable": false,
    "editable": false,
    "nbgrader": {
     "checksum": "1a1a5809f675ca033086422007cd73bd",
     "grade": false,
     "grade_id": "cell-96e15e4335df78f4",
     "locked": true,
     "schema_version": 1,
     "solution": false
    }
   },
   "source": [
    "## Question 3\n",
    "For this question, calculate the win/loss ratio's correlation with the population of the city it is in for the **MLB** using **2018** data."
   ]
  },
  {
   "cell_type": "code",
   "execution_count": 91,
   "metadata": {
    "deletable": false,
    "nbgrader": {
     "checksum": "27e8c0da6c9fa0dffc10488314335b6c",
     "grade": false,
     "grade_id": "cell-33b00fc3f3467b0c",
     "locked": false,
     "schema_version": 1,
     "solution": true
    }
   },
   "outputs": [
    {
     "data": {
      "text/plain": [
       "0.15003737475409495"
      ]
     },
     "execution_count": 91,
     "metadata": {},
     "output_type": "execute_result"
    }
   ],
   "source": [
    "import pandas as pd\n",
    "import numpy as np\n",
    "import scipy.stats as stats\n",
    "import re\n",
    "\n",
    "mlb_df=pd.read_csv(\"assets/mlb.csv\")\n",
    "#cities=pd.read_html(\"assets/wikipedia_data.html\")[1]\n",
    "#cities=cities.iloc[:-1,[0,3,5,6,7,8]]\n",
    "mlb_df = mlb_df.loc[(mlb_df['year']==2018)]\n",
    "mlb_df = mlb_df[['team', 'W-L%']]\n",
    "#nba_df['team']=nba_df['team'].replace(['\\*.*','\\(.*\\)'], ['',''], regex=True)\n",
    "cols = ['team']\n",
    "mlb_df[cols] = mlb_df[cols].apply(lambda x: x.str.strip())\n",
    "mlb_df['Team'] = mlb_df['team'].apply(lambda x: x.split(' ')[-1])\n",
    "mlb_df['Team'] = mlb_df['Team'].replace(['Jays'],['Blue Jays'])\n",
    "mlb_df['Team'].iloc[0] = 'Red Sox'\n",
    "mlb_df['Team'].iloc[8] = 'White Sox'\n",
    "df = cities[['Metropolitan area', 'MLB','Population']]\n",
    "df = df.replace('',np.nan).dropna()\n",
    "df.rename(columns = {\"MLB\":\"Team\"}, inplace=True)\n",
    "df = df.set_index(['Metropolitan area','Population']).apply(lambda x: x.str.split(' ').explode()).reset_index()\n",
    "df['Team'] = df['Team'].replace(['Jays','Red','White'],['Blue Jays','Red Sox','White Sox'])\n",
    "\n",
    "mlb = pd.merge(mlb_df, df, how='inner', on='Team')\n",
    "#print(temp.columns.values.tolist())\n",
    "mlb[['Population','W-L%']] = mlb[['Population','W-L%']].apply(pd.to_numeric, errors='coerce')\n",
    "data = mlb.groupby('Metropolitan area').agg({'Population':np.max, 'W-L%':np.mean})\n",
    "\n",
    "def mlb_correlation(): \n",
    "    \n",
    "    \n",
    "    \n",
    "    population_by_region = data['Population'] # pass in metropolitan area population from cities\n",
    "    win_loss_by_region = data['W-L%'] # pass in win/loss ratio from mlb_df in the same order as cities[\"Metropolitan area\"]\n",
    "\n",
    "    assert len(population_by_region) == len(win_loss_by_region), \"Q3: Your lists must be the same length\"\n",
    "    assert len(population_by_region) == 26, \"Q3: There should be 26 teams being analysed for MLB\"\n",
    "\n",
    "    corr, pval = stats.pearsonr(population_by_region, win_loss_by_region)\n",
    "    return corr\n",
    "\n",
    "mlb_correlation()"
   ]
  },
  {
   "cell_type": "code",
   "execution_count": null,
   "metadata": {
    "deletable": false,
    "editable": false,
    "nbgrader": {
     "checksum": "cda33b094ba19ccc37a481e0dd29e0bc",
     "grade": true,
     "grade_id": "cell-764d4476f425c5a2",
     "locked": true,
     "points": 20,
     "schema_version": 1,
     "solution": false
    }
   },
   "outputs": [],
   "source": []
  },
  {
   "cell_type": "markdown",
   "metadata": {
    "deletable": false,
    "editable": false,
    "nbgrader": {
     "checksum": "6977a6da9ed6d8b7a0b7e37bbeda709b",
     "grade": false,
     "grade_id": "cell-793df6c04dfb126e",
     "locked": true,
     "schema_version": 1,
     "solution": false
    }
   },
   "source": [
    "## Question 4\n",
    "For this question, calculate the win/loss ratio's correlation with the population of the city it is in for the **NFL** using **2018** data."
   ]
  },
  {
   "cell_type": "code",
   "execution_count": 92,
   "metadata": {
    "deletable": false,
    "nbgrader": {
     "checksum": "c4914ad1e119278ec2bd567c52640b66",
     "grade": false,
     "grade_id": "cell-8ccebc209aeec8d9",
     "locked": false,
     "schema_version": 1,
     "solution": true
    }
   },
   "outputs": [
    {
     "data": {
      "text/plain": [
       "0.004282141436392957"
      ]
     },
     "execution_count": 92,
     "metadata": {},
     "output_type": "execute_result"
    }
   ],
   "source": [
    "import pandas as pd\n",
    "import numpy as np\n",
    "import scipy.stats as stats\n",
    "import re\n",
    "\n",
    "nfl_df=pd.read_csv(\"assets/nfl.csv\")\n",
    "#cities=pd.read_html(\"assets/wikipedia_data.html\")[1]\n",
    "#cities=cities.iloc[:-1,[0,3,5,6,7,8]]\n",
    "nfl_df = nfl_df.loc[(nfl_df['year']==2018)]\n",
    "nfl_df = nfl_df[~nfl_df.L.str.contains(\"FC\")]\n",
    "nfl_df = nfl_df[['team', 'W-L%']]\n",
    "nfl_df['team']=nfl_df['team'].replace(['\\*', '\\+'], ['',''], regex=True)\n",
    "cols = ['team', 'W-L%']\n",
    "nfl_df[cols] = nfl_df[cols].apply(lambda x: x.str.strip())\n",
    "nfl_df['Team'] = nfl_df['team'].apply(lambda x: x.split(' ')[-1])\n",
    "#nhl_df['Team'] = nhl_df['Team'].replace(['Leafs', 'Wings', 'Jackets', 'Knights'],['Maple Leafs','Red Wings','Blue Jackets', 'Golden Knights'])\n",
    "df = cities[['Metropolitan area', 'NFL','Population']]\n",
    "df = df.replace('',np.nan).dropna()\n",
    "df.rename(columns = {\"NFL\":\"Team\"}, inplace=True)\n",
    "df = df.set_index(['Metropolitan area','Population']).apply(lambda x: x.str.split(' ').explode()).reset_index()\n",
    "#df['Team'] = df['Team'].replace(['Leafs', 'Wings', 'Jackets', 'Knights'],['Maple Leafs','Red Wings','Blue Jackets', 'Golden Knights'])\n",
    "#print(df.head(50))\n",
    "\n",
    "nfl = pd.merge(nfl_df, df, how='inner', on='Team')\n",
    "#print(temp.columns.values.tolist())\n",
    "nfl[['Population','W-L%']] = nfl[['Population','W-L%']].apply(pd.to_numeric, errors='coerce')\n",
    "data = nfl.groupby('Metropolitan area').agg({'Population':np.max, 'W-L%':np.mean})\n",
    "\n",
    "def nfl_correlation(): \n",
    "    \n",
    "    \n",
    "    population_by_region = data['Population'] # pass in metropolitan area population from cities\n",
    "    win_loss_by_region = data['W-L%'] # pass in win/loss ratio from nfl_df in the same order as cities[\"Metropolitan area\"]\n",
    "\n",
    "    assert len(population_by_region) == len(win_loss_by_region), \"Q4: Your lists must be the same length\"\n",
    "    assert len(population_by_region) == 29, \"Q4: There should be 29 teams being analysed for NFL\"\n",
    "\n",
    "    corr, pval = stats.pearsonr(population_by_region, win_loss_by_region)\n",
    "    return corr\n",
    "nfl_correlation()"
   ]
  },
  {
   "cell_type": "code",
   "execution_count": null,
   "metadata": {
    "deletable": false,
    "editable": false,
    "nbgrader": {
     "checksum": "e9415d6399aa49e3a1a60813afdefa3b",
     "grade": true,
     "grade_id": "cell-de7b148b9554dbda",
     "locked": true,
     "points": 20,
     "schema_version": 1,
     "solution": false
    }
   },
   "outputs": [],
   "source": []
  },
  {
   "cell_type": "markdown",
   "metadata": {
    "deletable": false,
    "editable": false,
    "nbgrader": {
     "checksum": "b02d5cd3273f561e4ae939bb2a41740c",
     "grade": false,
     "grade_id": "cell-97b49d8639e908c4",
     "locked": true,
     "schema_version": 1,
     "solution": false
    }
   },
   "source": [
    "## Question 5\n",
    "In this question I would like you to explore the hypothesis that **given that an area has two sports teams in different sports, those teams will perform the same within their respective sports**. How I would like to see this explored is with a series of paired t-tests (so use [`ttest_rel`](https://docs.scipy.org/doc/scipy/reference/generated/scipy.stats.ttest_rel.html)) between all pairs of sports. Are there any sports where we can reject the null hypothesis? Again, average values where a sport has multiple teams in one region. Remember, you will only be including, for each sport, cities which have teams engaged in that sport, drop others as appropriate. This question is worth 20% of the grade for this assignment."
   ]
  },
  {
   "cell_type": "code",
   "execution_count": 109,
   "metadata": {
    "deletable": false,
    "nbgrader": {
     "checksum": "6d78c961eb66f8d8c81f06d33ae8f393",
     "grade": false,
     "grade_id": "cell-92f25f44b8d1179f",
     "locked": false,
     "schema_version": 1,
     "solution": true
    }
   },
   "outputs": [
    {
     "data": {
      "text/html": [
       "<div>\n",
       "<style scoped>\n",
       "    .dataframe tbody tr th:only-of-type {\n",
       "        vertical-align: middle;\n",
       "    }\n",
       "\n",
       "    .dataframe tbody tr th {\n",
       "        vertical-align: top;\n",
       "    }\n",
       "\n",
       "    .dataframe thead th {\n",
       "        text-align: right;\n",
       "    }\n",
       "</style>\n",
       "<table border=\"1\" class=\"dataframe\">\n",
       "  <thead>\n",
       "    <tr style=\"text-align: right;\">\n",
       "      <th></th>\n",
       "      <th>NFL</th>\n",
       "      <th>NBA</th>\n",
       "      <th>NHL</th>\n",
       "      <th>MLB</th>\n",
       "    </tr>\n",
       "  </thead>\n",
       "  <tbody>\n",
       "    <tr>\n",
       "      <th>NFL</th>\n",
       "      <td>NaN</td>\n",
       "      <td>0.937509</td>\n",
       "      <td>0.030318</td>\n",
       "      <td>0.803459</td>\n",
       "    </tr>\n",
       "    <tr>\n",
       "      <th>NBA</th>\n",
       "      <td>0.937509</td>\n",
       "      <td>NaN</td>\n",
       "      <td>0.022386</td>\n",
       "      <td>0.949566</td>\n",
       "    </tr>\n",
       "    <tr>\n",
       "      <th>NHL</th>\n",
       "      <td>0.030318</td>\n",
       "      <td>0.022386</td>\n",
       "      <td>NaN</td>\n",
       "      <td>0.000703</td>\n",
       "    </tr>\n",
       "    <tr>\n",
       "      <th>MLB</th>\n",
       "      <td>0.803459</td>\n",
       "      <td>0.949566</td>\n",
       "      <td>0.000703</td>\n",
       "      <td>NaN</td>\n",
       "    </tr>\n",
       "  </tbody>\n",
       "</table>\n",
       "</div>"
      ],
      "text/plain": [
       "          NFL       NBA       NHL       MLB\n",
       "NFL       NaN  0.937509  0.030318  0.803459\n",
       "NBA  0.937509       NaN  0.022386  0.949566\n",
       "NHL  0.030318  0.022386       NaN  0.000703\n",
       "MLB  0.803459  0.949566  0.000703       NaN"
      ]
     },
     "execution_count": 109,
     "metadata": {},
     "output_type": "execute_result"
    }
   ],
   "source": [
    "import pandas as pd\n",
    "import numpy as np\n",
    "import scipy.stats as stats\n",
    "import re\n",
    "\n",
    "#mlb_df=pd.read_csv(\"assets/mlb.csv\")\n",
    "#nhl_df=pd.read_csv(\"assets/nhl.csv\")\n",
    "#nba_df=pd.read_csv(\"assets/nba.csv\")\n",
    "#nfl_df=pd.read_csv(\"assets/nfl.csv\")\n",
    "#cities=pd.read_html(\"assets/wikipedia_data.html\")[1]\n",
    "#cities=cities.iloc[:-1,[0,3,5,6,7,8]]\n",
    "#nhl_df['ratio'] = pd.to_numeric(nhl_df['W'])/(pd.to_numeric(nhl_df['L'])+pd.to_numeric(nhl_df['W']))\n",
    "#nhl_df.drop(['W', 'L'], axis=1, inplace=True)\n",
    "nhl = nhl.groupby('Metropolitan area').agg({'ratio': np.mean})\n",
    "nba = nba.groupby('Metropolitan area').agg({'W/L%': np.mean})\n",
    "mlb = mlb.groupby('Metropolitan area').agg({'W-L%': np.mean})\n",
    "nfl = nfl.groupby('Metropolitan area').agg({'W-L%': np.mean})\n",
    "nba_nhl = pd.merge(nba,nhl,how='inner',on='Metropolitan area')\n",
    "nba_nfl = pd.merge(nba,nfl,how='inner',on='Metropolitan area')\n",
    "nba_mlb = pd.merge(nba,mlb,how='inner',on='Metropolitan area')\n",
    "nhl_nfl = pd.merge(nhl,nfl,how='inner',on='Metropolitan area')\n",
    "nhl_mlb = pd.merge(nhl,mlb,how='inner',on='Metropolitan area')\n",
    "mlb_nfl = pd.merge(mlb,nfl,how='inner',on='Metropolitan area')\n",
    "#print(mlb_nfl.head())\n",
    "\n",
    "def sports_team_performance():\n",
    "    nba_nhl_test, pval1 = stats.ttest_rel(nba_nhl['W/L%'], nba_nhl['ratio'])\n",
    "    nba_nfl_test, pval2 = stats.ttest_rel(nba_nfl['W/L%'], nba_nfl['W-L%'])\n",
    "    nba_mlb_test, pval3 = stats.ttest_rel(nba_mlb['W/L%'], nba_mlb['W-L%'])\n",
    "    nhl_nfl_test, pval4 = stats.ttest_rel(nhl_nfl['ratio'], nhl_nfl['W-L%'])\n",
    "    nhl_mlb_test, pval5 = stats.ttest_rel(nhl_mlb['ratio'], nhl_mlb['W-L%'])\n",
    "    mlb_nfl_test, pval6 = stats.ttest_rel(mlb_nfl['W-L%_x'], mlb_nfl['W-L%_y'])\n",
    "    \n",
    "    # Note: p_values is a full dataframe, so df.loc[\"NFL\",\"NBA\"] should be the same as df.loc[\"NBA\",\"NFL\"] and\n",
    "    # df.loc[\"NFL\",\"NFL\"] should return np.nan\n",
    "    sports = ['NFL', 'NBA', 'NHL', 'MLB']\n",
    "    p_values = pd.DataFrame({k:np.nan for k in sports}, index=sports)\n",
    "    p_values.iloc[0] = [np.nan, pval2, pval4, pval6]\n",
    "    p_values.iloc[1] = [pval2, np.nan, pval1, pval3]\n",
    "    p_values.iloc[2] = [pval4, pval1, np.nan, pval5]\n",
    "    p_values.iloc[3] = [pval6, pval3, pval5, np.nan]\n",
    "    \n",
    "    assert abs(p_values.loc[\"NBA\", \"NHL\"] - 0.02) <= 1e-2, \"The NBA-NHL p-value should be around 0.02\"\n",
    "    assert abs(p_values.loc[\"MLB\", \"NFL\"] - 0.80) <= 1e-2, \"The MLB-NFL p-value should be around 0.80\"\n",
    "    return p_values\n",
    "sports_team_performance()"
   ]
  },
  {
   "cell_type": "code",
   "execution_count": null,
   "metadata": {
    "deletable": false,
    "editable": false,
    "nbgrader": {
     "checksum": "2a596ab421a45cc01168d10e8fbb8f89",
     "grade": true,
     "grade_id": "cell-fb4b9cb5ff4570a6",
     "locked": true,
     "points": 20,
     "schema_version": 1,
     "solution": false
    }
   },
   "outputs": [],
   "source": []
  }
 ],
 "metadata": {
  "coursera": {
   "schema_names": [
    "mooc_adswpy_1_v2_assignment4"
   ]
  },
  "kernelspec": {
   "display_name": "Python 3",
   "language": "python",
   "name": "python3"
  },
  "language_info": {
   "codemirror_mode": {
    "name": "ipython",
    "version": 3
   },
   "file_extension": ".py",
   "mimetype": "text/x-python",
   "name": "python",
   "nbconvert_exporter": "python",
   "pygments_lexer": "ipython3",
   "version": "3.7.3"
  }
 },
 "nbformat": 4,
 "nbformat_minor": 4
}
